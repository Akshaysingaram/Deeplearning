{
 "cells": [
  {
   "cell_type": "code",
   "execution_count": 13,
   "metadata": {},
   "outputs": [
    {
     "name": "stdout",
     "output_type": "stream",
     "text": [
      "check\n",
      "tensor([2., 2., 2., 2., 2.], device='cuda:0')\n"
     ]
    }
   ],
   "source": [
    "import torch\n",
    "import torch.nn as nn\n",
    "import torch.nn.functional as F\n",
    "import torch.optim as optim\n",
    "import numpy as np\n",
    "\n",
    "if torch.cuda.is_available():\n",
    "    device=torch.device(\"cuda\")\n",
    "    print(\"check\")\n",
    "    x=torch.ones(5, device=device)\n",
    "    y=torch.ones(5)\n",
    "    y=y.to(device)\n",
    "    z=x+y\n",
    "    #z=z.to(\"cpu\")\n",
    "    #z.numpy()\n",
    "    print(z)\n"
   ]
  },
  {
   "cell_type": "code",
   "execution_count": 31,
   "metadata": {},
   "outputs": [
    {
     "name": "stdout",
     "output_type": "stream",
     "text": [
      "tensor(1., grad_fn=<PowBackward0>)\n",
      "tensor(2.)\n"
     ]
    }
   ],
   "source": [
    "import torch\n",
    "\n",
    "x=torch.tensor(1.0)\n",
    "y=torch.tensor(2.0)\n",
    "\n",
    "w=torch.tensor(3.0,requires_grad=True)\n",
    "\n",
    "y_hat=w*x\n",
    "loss=(y_hat-y)**2\n",
    "print(loss)\n",
    "\n",
    "#backward pass\n",
    "loss.backward()\n",
    "print(w.grad)"
   ]
  },
  {
   "cell_type": "code",
   "execution_count": 1,
   "metadata": {},
   "outputs": [
    {
     "name": "stdout",
     "output_type": "stream",
     "text": [
      "prediction before training: f(5)= 2000.000\n",
      "epoch 1:w =161.200, loss= 1188030.00000000\n",
      "epoch 2:w =65.680, loss= 190084.78125000\n",
      "epoch 3:w =27.472, loss= 30413.56835938\n",
      "epoch 4:w =12.189, loss= 4866.17089844\n",
      "epoch 5:w =6.076, loss= 778.58715820\n",
      "epoch 6:w =3.630, loss= 124.57394409\n",
      "epoch 7:w =2.652, loss= 19.93183136\n",
      "epoch 8:w =2.261, loss= 3.18909311\n",
      "epoch 9:w =2.104, loss= 0.51025498\n",
      "epoch 10:w =2.042, loss= 0.08164060\n",
      "epoch 11:w =2.017, loss= 0.01306249\n",
      "epoch 12:w =2.007, loss= 0.00209002\n",
      "epoch 13:w =2.003, loss= 0.00033440\n",
      "epoch 14:w =2.001, loss= 0.00005351\n",
      "epoch 15:w =2.000, loss= 0.00000856\n",
      "epoch 16:w =2.000, loss= 0.00000137\n",
      "epoch 17:w =2.000, loss= 0.00000022\n",
      "epoch 18:w =2.000, loss= 0.00000004\n",
      "epoch 19:w =2.000, loss= 0.00000001\n",
      "epoch 20:w =2.000, loss= 0.00000000\n",
      "Prediction after training :f(5) = 14.000\n"
     ]
    }
   ],
   "source": [
    "import numpy as np\n",
    "#f=w*x\n",
    "#f=2*x\n",
    "\n",
    "X=np.array([1,2,3,4], dtype=np.float32)\n",
    "Y=np.array([2,4,6,8], dtype=np.float32)\n",
    "\n",
    "w=0.0\n",
    "#model prediction\n",
    "def forward(x):\n",
    "    return w*x;\n",
    "\n",
    "#loss\n",
    "def loss(y,y_predicted):\n",
    "    return ((y_predicted-y)**2).mean()\n",
    "\n",
    "#gradient\n",
    "# MSE = 1/N * (w*x - y)**2\n",
    "# dJ/dw= 1/N * 2x * (w*x - y)\n",
    "\n",
    "def gradient(x,y,y_predicted):\n",
    "    return np.dot(2*x,y_predicted-y).mean()\n",
    "\n",
    "print(f'prediction before training: f(5)= {forward(5):.3f}')\n",
    "\n",
    "#train\n",
    "learning_rate= 0.01\n",
    "n_iters=20\n",
    "\n",
    "for epoch in range(n_iters):\n",
    "    #prediction = forward pass\n",
    "    y_pred= forward(X)\n",
    "\n",
    "    #loss\n",
    "    l=loss(Y,y_pred)\n",
    "    \n",
    "    #gradients\n",
    "    dw= gradient(X,Y,y_pred)\n",
    "\n",
    "    #update weights\n",
    "    w-=learning_rate*dw\n",
    "    \n",
    "    if epoch%1==0:\n",
    "        print(f'epoch {epoch+1}:w ={w:.3f}, loss= {l:.8f}')\n",
    "print(f'Prediction after training :f(5) = {forward(7):.3f}')\n"
   ]
  },
  {
   "cell_type": "code",
   "execution_count": 6,
   "metadata": {},
   "outputs": [
    {
     "name": "stdout",
     "output_type": "stream",
     "text": [
      "prediction before training: f(5)= 0.000\n",
      "epoch 1:w =0.300, loss= 30.00000000\n",
      "epoch 11:w =1.665, loss= 1.16278565\n",
      "epoch 21:w =1.934, loss= 0.04506890\n",
      "epoch 31:w =1.987, loss= 0.00174685\n",
      "epoch 41:w =1.997, loss= 0.00006770\n",
      "epoch 51:w =1.999, loss= 0.00000262\n",
      "epoch 61:w =2.000, loss= 0.00000010\n",
      "epoch 71:w =2.000, loss= 0.00000000\n",
      "epoch 81:w =2.000, loss= 0.00000000\n",
      "epoch 91:w =2.000, loss= 0.00000000\n",
      "Prediction after training :f(5) = 14.000\n"
     ]
    }
   ],
   "source": [
    "import torch\n",
    "#f=w*x\n",
    "#f=2*x\n",
    "\n",
    "X=torch.tensor([1,2,3,4], dtype=torch.float32)\n",
    "Y=torch.tensor([2,4,6,8], dtype=torch.float32)\n",
    "\n",
    "w=torch.tensor(0.0, dtype=torch.float32, requires_grad=True)\n",
    "#model prediction\n",
    "def forward(x):\n",
    "    return w*x;\n",
    "\n",
    "#loss\n",
    "def loss(y,y_predicted):\n",
    "    return ((y_predicted-y)**2).mean()\n",
    "\n",
    "#gradient\n",
    "# MSE = 1/N * (w*x - y)**2\n",
    "# dJ/dw= 1/N * 2x * (w*x - y)\n",
    "\n",
    "print(f'prediction before training: f(5)= {forward(5):.3f}')\n",
    "\n",
    "#train\n",
    "learning_rate= 0.01\n",
    "n_iters=100\n",
    "\n",
    "for epoch in range(n_iters):\n",
    "    #prediction = forward pass\n",
    "    y_pred= forward(X)\n",
    "\n",
    "    #loss\n",
    "    l=loss(Y,y_pred)\n",
    "    \n",
    "    #gradients=backward pass\n",
    "    l.backward()\n",
    "\n",
    "    #update weights\n",
    "    with torch.no_grad():\n",
    "        w-=learning_rate*w.grad\n",
    "    \n",
    "    #zero gradients\n",
    "    w.grad.zero_()\n",
    "\n",
    "    if epoch%10==0:\n",
    "        print(f'epoch {epoch+1}:w ={w:.3f}, loss= {l:.8f}')\n",
    "print(f'Prediction after training :f(5) = {forward(7):.3f}')\n"
   ]
  },
  {
   "cell_type": "code",
   "execution_count": 24,
   "metadata": {},
   "outputs": [
    {
     "name": "stdout",
     "output_type": "stream",
     "text": [
      "4 1\n",
      "prediction before training: f(5)= -3.414\n",
      "epoch 1:w =-0.377, loss= 56.78449249\n",
      "epoch 11:w =1.357, loss= 2.07409954\n",
      "epoch 21:w =1.652, loss= 0.62765229\n",
      "epoch 31:w =1.714, loss= 0.56107229\n",
      "epoch 41:w =1.738, loss= 0.53189045\n",
      "epoch 51:w =1.755, loss= 0.50527346\n",
      "epoch 61:w =1.772, loss= 0.48022902\n",
      "epoch 71:w =1.787, loss= 0.45664245\n",
      "epoch 81:w =1.803, loss= 0.43442911\n",
      "epoch 91:w =1.817, loss= 0.41350842\n",
      "Prediction after training :f(5) = 10.032\n",
      "time taken is -> 0.031\n",
      "done\n"
     ]
    }
   ],
   "source": [
    "#1. Design model (input, output size, forward pass)\n",
    "#2. Construct loss and optimizer\n",
    "#3. Training loop\n",
    "\n",
    "#Pytorch pipeline\n",
    "\n",
    "import torch\n",
    "import torch.nn as nn \n",
    "import time \n",
    "\n",
    "X=torch.tensor([[1],[2],[3],[4]], dtype=torch.float32)\n",
    "Y=torch.tensor([[2],[4],[6],[9]], dtype=torch.float32)\n",
    "\n",
    "X_test=torch.tensor([5], dtype=torch.float32)\n",
    "n_samples, n_features=X.shape\n",
    "print(n_samples,n_features)\n",
    "\n",
    "input_size=n_features\n",
    "output_size=n_features\n",
    "\n",
    "#model= nn.Linear(input_size,output_size)\n",
    "\n",
    "class LinearRegression(nn.Module):\n",
    "\n",
    "    def __init__(self,input_dim, output_dim):\n",
    "        super(LinearRegression, self).__init__()\n",
    "        #define layers\n",
    "        self.lin= nn.Linear(input_dim, output_dim)\n",
    "\n",
    "    def forward(self, x):\n",
    "        return self.lin(x)\n",
    "    \n",
    "model= LinearRegression(input_size, output_size)\n",
    "\n",
    "\n",
    "print(f'prediction before training: f(5)= {model(X_test).item():.3f}')\n",
    "\n",
    "#train\n",
    "learning_rate= 0.01\n",
    "n_iters=100\n",
    "\n",
    "loss = nn.MSELoss()\n",
    "optimizer = torch.optim.SGD(model.parameters(), lr=learning_rate)\n",
    "start= time.time()\n",
    "for epoch in range(n_iters):\n",
    "    #prediction = forward pass\n",
    "    y_pred= model(X)\n",
    "\n",
    "    #loss\n",
    "    l=loss(Y,y_pred)\n",
    "    \n",
    "    #gradients=backward pass\n",
    "    l.backward()\n",
    "\n",
    "    #update weights\n",
    "    optimizer.step()\n",
    "    \n",
    "    #zero gradients\n",
    "    optimizer.zero_grad()\n",
    "\n",
    "    if epoch%10==0:\n",
    "        [w, b]= model.parameters()\n",
    "        print(f'epoch {epoch+1}:w ={w[0][0].item():.3f}, loss= {l:.8f}')\n",
    "print(f'Prediction after training :f(5) = {model(X_test).item():.3f}')\n",
    "end=time.time()\n",
    "print(f'time taken is -> {(end-start):.3f}')\n",
    "print(\"done\")"
   ]
  },
  {
   "cell_type": "code",
   "execution_count": 26,
   "metadata": {},
   "outputs": [
    {
     "ename": "ModuleNotFoundError",
     "evalue": "No module named 'matplotlib'",
     "output_type": "error",
     "traceback": [
      "\u001b[1;31m---------------------------------------------------------------------------\u001b[0m",
      "\u001b[1;31mModuleNotFoundError\u001b[0m                       Traceback (most recent call last)",
      "\u001b[1;32mc:\\Users\\singa\\Desktop\\NYU course work\\Second Semester\\Lab work\\Pytorch\\prog1.ipynb Cell 6'\u001b[0m in \u001b[0;36m<cell line: 5>\u001b[1;34m()\u001b[0m\n\u001b[0;32m      <a href='vscode-notebook-cell:/c%3A/Users/singa/Desktop/NYU%20course%20work/Second%20Semester/Lab%20work/Pytorch/prog1.ipynb#ch0000006?line=2'>3</a>\u001b[0m \u001b[39mimport\u001b[39;00m \u001b[39mnumpy\u001b[39;00m \u001b[39mas\u001b[39;00m \u001b[39mnp\u001b[39;00m \n\u001b[0;32m      <a href='vscode-notebook-cell:/c%3A/Users/singa/Desktop/NYU%20course%20work/Second%20Semester/Lab%20work/Pytorch/prog1.ipynb#ch0000006?line=3'>4</a>\u001b[0m \u001b[39mfrom\u001b[39;00m \u001b[39msklearn\u001b[39;00m \u001b[39mimport\u001b[39;00m datasets\n\u001b[1;32m----> <a href='vscode-notebook-cell:/c%3A/Users/singa/Desktop/NYU%20course%20work/Second%20Semester/Lab%20work/Pytorch/prog1.ipynb#ch0000006?line=4'>5</a>\u001b[0m \u001b[39mimport\u001b[39;00m \u001b[39mmatplotlib\u001b[39;00m\u001b[39m.\u001b[39;00m\u001b[39mpyplot\u001b[39;00m \u001b[39mas\u001b[39;00m \u001b[39mplt\u001b[39;00m\n",
      "\u001b[1;31mModuleNotFoundError\u001b[0m: No module named 'matplotlib'"
     ]
    }
   ],
   "source": [
    "import torch\n",
    "import torch.nn\n",
    "import numpy as np \n",
    "from sklearn import datasets\n",
    "import matplotlib.pyplot as plt"
   ]
  }
 ],
 "metadata": {
  "interpreter": {
   "hash": "61d25cd076709389340f134b58b57275c3581b50014a1c57c07a1adc674108e2"
  },
  "kernelspec": {
   "display_name": "Python 3.9.12 ('Deeplearning')",
   "language": "python",
   "name": "python3"
  },
  "language_info": {
   "codemirror_mode": {
    "name": "ipython",
    "version": 3
   },
   "file_extension": ".py",
   "mimetype": "text/x-python",
   "name": "python",
   "nbconvert_exporter": "python",
   "pygments_lexer": "ipython3",
   "version": "3.9.12"
  },
  "orig_nbformat": 4
 },
 "nbformat": 4,
 "nbformat_minor": 2
}
